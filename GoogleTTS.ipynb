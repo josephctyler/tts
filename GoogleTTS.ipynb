{
 "cells": [
  {
   "cell_type": "code",
   "execution_count": 11,
   "metadata": {
    "collapsed": false
   },
   "outputs": [
    {
     "name": "stdout",
     "output_type": "stream",
     "text": [
      "Choose a verb ending in -ing: going\n",
      "Choose an adjective: hot\n",
      "Choose an adverb: quickly\n",
      "Choose a famous person: Obama\n"
     ]
    }
   ],
   "source": [
    "# Do a mad lib that gets outputted as an mp3?\n",
    "verbing = input(\"Choose a verb ending in -ing: \")\n",
    "adj = input(\"Choose an adjective: \")\n",
    "adv = input(\"Choose an adverb: \")\n",
    "person = input(\"Choose a famous person: \")\n",
    "sent = \"The \" + adj + \" agent was \" + verbing + \" \" + adv + \" with \" + person + \".\""
   ]
  },
  {
   "cell_type": "code",
   "execution_count": 33,
   "metadata": {
    "collapsed": false
   },
   "outputs": [
    {
     "name": "stdout",
     "output_type": "stream",
     "text": [
      "The hot agent was going quickly with Obama.\n"
     ]
    }
   ],
   "source": [
    "print(sent)"
   ]
  },
  {
   "cell_type": "code",
   "execution_count": 32,
   "metadata": {
    "collapsed": false
   },
   "outputs": [
    {
     "data": {
      "text/plain": [
       "32512"
      ]
     },
     "execution_count": 32,
     "metadata": {},
     "output_type": "execute_result"
    }
   ],
   "source": [
    "from gtts import gTTS\n",
    "import os\n",
    "tts = gTTS(text=sent, lang='en')\n",
    "tts.save(\"good.mp3\")\n",
    "os.system(\"mpg321 good.mp3\")"
   ]
  }
 ],
 "metadata": {
  "kernelspec": {
   "display_name": "Python 3",
   "language": "python",
   "name": "python3"
  },
  "language_info": {
   "codemirror_mode": {
    "name": "ipython",
    "version": 3
   },
   "file_extension": ".py",
   "mimetype": "text/x-python",
   "name": "python",
   "nbconvert_exporter": "python",
   "pygments_lexer": "ipython3",
   "version": "3.5.1"
  }
 },
 "nbformat": 4,
 "nbformat_minor": 0
}
