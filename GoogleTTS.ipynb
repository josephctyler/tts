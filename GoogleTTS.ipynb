{
 "cells": [
  {
   "cell_type": "code",
   "execution_count": 37,
   "metadata": {
    "collapsed": false
   },
   "outputs": [
    {
     "name": "stdout",
     "output_type": "stream",
     "text": [
      "Choose a verb ending in -ing: speaking\n",
      "Choose an adjective: frenetic\n",
      "Choose an adverb: crazily\n",
      "Choose a famous person: Bon Jovi\n"
     ]
    }
   ],
   "source": [
    "# Do a mad lib that gets outputted as an mp3?\n",
    "verbing = input(\"Choose a verb ending in -ing: \")\n",
    "adj = input(\"Choose an adjective: \")\n",
    "adv = input(\"Choose an adverb: \")\n",
    "person = input(\"Choose a famous person: \")\n",
    "sent = \"The \" + adj + \" agent was \" + verbing + \" \" + adv + \" with \" + person + \".\""
   ]
  },
  {
   "cell_type": "code",
   "execution_count": 38,
   "metadata": {
    "collapsed": false
   },
   "outputs": [
    {
     "name": "stdout",
     "output_type": "stream",
     "text": [
      "The frenetic agent was speaking crazily with Bon Jovi.\n"
     ]
    }
   ],
   "source": [
    "print(sent)"
   ]
  },
  {
   "cell_type": "code",
   "execution_count": 39,
   "metadata": {
    "collapsed": false
   },
   "outputs": [
    {
     "data": {
      "text/plain": [
       "32512"
      ]
     },
     "execution_count": 39,
     "metadata": {},
     "output_type": "execute_result"
    }
   ],
   "source": [
    "from gtts import gTTS\n",
    "import os\n",
    "tts = gTTS(text=sent, lang='en')\n",
    "tts.save(\"good.mp3\")\n",
    "os.system(\"mpg321 good.mp3\")"
   ]
  },
  {
   "cell_type": "code",
   "execution_count": 40,
   "metadata": {
    "collapsed": false
   },
   "outputs": [
    {
     "data": {
      "text/plain": [
       "32512"
      ]
     },
     "execution_count": 40,
     "metadata": {},
     "output_type": "execute_result"
    }
   ],
   "source": [
    "from gtts import gTTS\n",
    "import os\n",
    "tts = gTTS(text=sent, lang='cs')\n",
    "tts.save(\"goodcs.mp3\")\n",
    "os.system(\"mpg321 goodcs.mp3\")"
   ]
  },
  {
   "cell_type": "code",
   "execution_count": null,
   "metadata": {
    "collapsed": true
   },
   "outputs": [],
   "source": []
  }
 ],
 "metadata": {
  "kernelspec": {
   "display_name": "Python 3",
   "language": "python",
   "name": "python3"
  },
  "language_info": {
   "codemirror_mode": {
    "name": "ipython",
    "version": 3
   },
   "file_extension": ".py",
   "mimetype": "text/x-python",
   "name": "python",
   "nbconvert_exporter": "python",
   "pygments_lexer": "ipython3",
   "version": "3.5.1"
  }
 },
 "nbformat": 4,
 "nbformat_minor": 0
}
